{
 "cells": [
  {
   "cell_type": "markdown",
   "metadata": {
    "collapsed": true
   },
   "source": [
    "##### Finding best markets to advertise e-learning platform. \n",
    "\n",
    "This is a search in the \"e-marketplace\" or in \"real-marketplace\" for put in some advertising."
   ]
  },
  {
   "cell_type": "code",
   "execution_count": 22,
   "metadata": {
    "collapsed": true
   },
   "outputs": [],
   "source": [
    "import seaborn as sns"
   ]
  },
  {
   "cell_type": "code",
   "execution_count": 23,
   "metadata": {
    "collapsed": false,
    "scrolled": true
   },
   "outputs": [
    {
     "name": "stdout",
     "output_type": "stream",
     "text": [
      "(2882, 136)\n"
     ]
    },
    {
     "data": {
      "text/html": [
       "<div>\n",
       "<style scoped>\n",
       "    .dataframe tbody tr th:only-of-type {\n",
       "        vertical-align: middle;\n",
       "    }\n",
       "\n",
       "    .dataframe tbody tr th {\n",
       "        vertical-align: top;\n",
       "    }\n",
       "\n",
       "    .dataframe thead th {\n",
       "        text-align: right;\n",
       "    }\n",
       "</style>\n",
       "<table border=\"1\" class=\"dataframe\">\n",
       "  <thead>\n",
       "    <tr style=\"text-align: right;\">\n",
       "      <th></th>\n",
       "      <th>Age</th>\n",
       "      <th>AttendedBootcamp</th>\n",
       "      <th>BootcampFinish</th>\n",
       "      <th>BootcampLoanYesNo</th>\n",
       "      <th>BootcampName</th>\n",
       "      <th>BootcampRecommend</th>\n",
       "      <th>ChildrenNumber</th>\n",
       "      <th>CityPopulation</th>\n",
       "      <th>CodeEventConferences</th>\n",
       "      <th>CodeEventDjangoGirls</th>\n",
       "      <th>...</th>\n",
       "      <th>YouTubeFCC</th>\n",
       "      <th>YouTubeFunFunFunction</th>\n",
       "      <th>YouTubeGoogleDev</th>\n",
       "      <th>YouTubeLearnCode</th>\n",
       "      <th>YouTubeLevelUpTuts</th>\n",
       "      <th>YouTubeMIT</th>\n",
       "      <th>YouTubeMozillaHacks</th>\n",
       "      <th>YouTubeOther</th>\n",
       "      <th>YouTubeSimplilearn</th>\n",
       "      <th>YouTubeTheNewBoston</th>\n",
       "    </tr>\n",
       "  </thead>\n",
       "  <tbody>\n",
       "    <tr>\n",
       "      <th>0</th>\n",
       "      <td>27.0</td>\n",
       "      <td>0.0</td>\n",
       "      <td>NaN</td>\n",
       "      <td>NaN</td>\n",
       "      <td>NaN</td>\n",
       "      <td>NaN</td>\n",
       "      <td>NaN</td>\n",
       "      <td>more than 1 million</td>\n",
       "      <td>NaN</td>\n",
       "      <td>NaN</td>\n",
       "      <td>...</td>\n",
       "      <td>NaN</td>\n",
       "      <td>NaN</td>\n",
       "      <td>NaN</td>\n",
       "      <td>NaN</td>\n",
       "      <td>NaN</td>\n",
       "      <td>NaN</td>\n",
       "      <td>NaN</td>\n",
       "      <td>NaN</td>\n",
       "      <td>NaN</td>\n",
       "      <td>NaN</td>\n",
       "    </tr>\n",
       "    <tr>\n",
       "      <th>1</th>\n",
       "      <td>34.0</td>\n",
       "      <td>0.0</td>\n",
       "      <td>NaN</td>\n",
       "      <td>NaN</td>\n",
       "      <td>NaN</td>\n",
       "      <td>NaN</td>\n",
       "      <td>NaN</td>\n",
       "      <td>less than 100,000</td>\n",
       "      <td>NaN</td>\n",
       "      <td>NaN</td>\n",
       "      <td>...</td>\n",
       "      <td>1.0</td>\n",
       "      <td>NaN</td>\n",
       "      <td>NaN</td>\n",
       "      <td>NaN</td>\n",
       "      <td>NaN</td>\n",
       "      <td>NaN</td>\n",
       "      <td>NaN</td>\n",
       "      <td>NaN</td>\n",
       "      <td>NaN</td>\n",
       "      <td>NaN</td>\n",
       "    </tr>\n",
       "    <tr>\n",
       "      <th>2</th>\n",
       "      <td>21.0</td>\n",
       "      <td>0.0</td>\n",
       "      <td>NaN</td>\n",
       "      <td>NaN</td>\n",
       "      <td>NaN</td>\n",
       "      <td>NaN</td>\n",
       "      <td>NaN</td>\n",
       "      <td>more than 1 million</td>\n",
       "      <td>NaN</td>\n",
       "      <td>NaN</td>\n",
       "      <td>...</td>\n",
       "      <td>NaN</td>\n",
       "      <td>NaN</td>\n",
       "      <td>NaN</td>\n",
       "      <td>1.0</td>\n",
       "      <td>1.0</td>\n",
       "      <td>NaN</td>\n",
       "      <td>NaN</td>\n",
       "      <td>NaN</td>\n",
       "      <td>NaN</td>\n",
       "      <td>NaN</td>\n",
       "    </tr>\n",
       "    <tr>\n",
       "      <th>3</th>\n",
       "      <td>26.0</td>\n",
       "      <td>0.0</td>\n",
       "      <td>NaN</td>\n",
       "      <td>NaN</td>\n",
       "      <td>NaN</td>\n",
       "      <td>NaN</td>\n",
       "      <td>NaN</td>\n",
       "      <td>between 100,000 and 1 million</td>\n",
       "      <td>NaN</td>\n",
       "      <td>NaN</td>\n",
       "      <td>...</td>\n",
       "      <td>1.0</td>\n",
       "      <td>1.0</td>\n",
       "      <td>NaN</td>\n",
       "      <td>NaN</td>\n",
       "      <td>1.0</td>\n",
       "      <td>NaN</td>\n",
       "      <td>NaN</td>\n",
       "      <td>NaN</td>\n",
       "      <td>NaN</td>\n",
       "      <td>NaN</td>\n",
       "    </tr>\n",
       "    <tr>\n",
       "      <th>4</th>\n",
       "      <td>20.0</td>\n",
       "      <td>0.0</td>\n",
       "      <td>NaN</td>\n",
       "      <td>NaN</td>\n",
       "      <td>NaN</td>\n",
       "      <td>NaN</td>\n",
       "      <td>NaN</td>\n",
       "      <td>between 100,000 and 1 million</td>\n",
       "      <td>NaN</td>\n",
       "      <td>NaN</td>\n",
       "      <td>...</td>\n",
       "      <td>NaN</td>\n",
       "      <td>NaN</td>\n",
       "      <td>NaN</td>\n",
       "      <td>NaN</td>\n",
       "      <td>NaN</td>\n",
       "      <td>NaN</td>\n",
       "      <td>NaN</td>\n",
       "      <td>NaN</td>\n",
       "      <td>NaN</td>\n",
       "      <td>NaN</td>\n",
       "    </tr>\n",
       "    <tr>\n",
       "      <th>5</th>\n",
       "      <td>28.0</td>\n",
       "      <td>0.0</td>\n",
       "      <td>NaN</td>\n",
       "      <td>NaN</td>\n",
       "      <td>NaN</td>\n",
       "      <td>NaN</td>\n",
       "      <td>NaN</td>\n",
       "      <td>less than 100,000</td>\n",
       "      <td>NaN</td>\n",
       "      <td>NaN</td>\n",
       "      <td>...</td>\n",
       "      <td>NaN</td>\n",
       "      <td>NaN</td>\n",
       "      <td>NaN</td>\n",
       "      <td>NaN</td>\n",
       "      <td>NaN</td>\n",
       "      <td>NaN</td>\n",
       "      <td>NaN</td>\n",
       "      <td>CodingEntrepreneurs</td>\n",
       "      <td>NaN</td>\n",
       "      <td>1.0</td>\n",
       "    </tr>\n",
       "    <tr>\n",
       "      <th>6</th>\n",
       "      <td>29.0</td>\n",
       "      <td>0.0</td>\n",
       "      <td>NaN</td>\n",
       "      <td>NaN</td>\n",
       "      <td>NaN</td>\n",
       "      <td>NaN</td>\n",
       "      <td>NaN</td>\n",
       "      <td>between 100,000 and 1 million</td>\n",
       "      <td>1.0</td>\n",
       "      <td>NaN</td>\n",
       "      <td>...</td>\n",
       "      <td>NaN</td>\n",
       "      <td>NaN</td>\n",
       "      <td>NaN</td>\n",
       "      <td>NaN</td>\n",
       "      <td>NaN</td>\n",
       "      <td>NaN</td>\n",
       "      <td>NaN</td>\n",
       "      <td>NaN</td>\n",
       "      <td>NaN</td>\n",
       "      <td>NaN</td>\n",
       "    </tr>\n",
       "    <tr>\n",
       "      <th>7</th>\n",
       "      <td>29.0</td>\n",
       "      <td>0.0</td>\n",
       "      <td>NaN</td>\n",
       "      <td>NaN</td>\n",
       "      <td>NaN</td>\n",
       "      <td>NaN</td>\n",
       "      <td>NaN</td>\n",
       "      <td>between 100,000 and 1 million</td>\n",
       "      <td>NaN</td>\n",
       "      <td>NaN</td>\n",
       "      <td>...</td>\n",
       "      <td>1.0</td>\n",
       "      <td>1.0</td>\n",
       "      <td>NaN</td>\n",
       "      <td>NaN</td>\n",
       "      <td>NaN</td>\n",
       "      <td>NaN</td>\n",
       "      <td>NaN</td>\n",
       "      <td>NaN</td>\n",
       "      <td>NaN</td>\n",
       "      <td>1.0</td>\n",
       "    </tr>\n",
       "    <tr>\n",
       "      <th>8</th>\n",
       "      <td>23.0</td>\n",
       "      <td>0.0</td>\n",
       "      <td>NaN</td>\n",
       "      <td>NaN</td>\n",
       "      <td>NaN</td>\n",
       "      <td>NaN</td>\n",
       "      <td>NaN</td>\n",
       "      <td>less than 100,000</td>\n",
       "      <td>NaN</td>\n",
       "      <td>NaN</td>\n",
       "      <td>...</td>\n",
       "      <td>NaN</td>\n",
       "      <td>NaN</td>\n",
       "      <td>NaN</td>\n",
       "      <td>NaN</td>\n",
       "      <td>NaN</td>\n",
       "      <td>NaN</td>\n",
       "      <td>NaN</td>\n",
       "      <td>NaN</td>\n",
       "      <td>NaN</td>\n",
       "      <td>NaN</td>\n",
       "    </tr>\n",
       "    <tr>\n",
       "      <th>9</th>\n",
       "      <td>24.0</td>\n",
       "      <td>0.0</td>\n",
       "      <td>NaN</td>\n",
       "      <td>NaN</td>\n",
       "      <td>NaN</td>\n",
       "      <td>NaN</td>\n",
       "      <td>NaN</td>\n",
       "      <td>more than 1 million</td>\n",
       "      <td>1.0</td>\n",
       "      <td>NaN</td>\n",
       "      <td>...</td>\n",
       "      <td>1.0</td>\n",
       "      <td>1.0</td>\n",
       "      <td>NaN</td>\n",
       "      <td>1.0</td>\n",
       "      <td>1.0</td>\n",
       "      <td>1.0</td>\n",
       "      <td>NaN</td>\n",
       "      <td>NaN</td>\n",
       "      <td>NaN</td>\n",
       "      <td>1.0</td>\n",
       "    </tr>\n",
       "    <tr>\n",
       "      <th>10</th>\n",
       "      <td>20.0</td>\n",
       "      <td>0.0</td>\n",
       "      <td>NaN</td>\n",
       "      <td>NaN</td>\n",
       "      <td>NaN</td>\n",
       "      <td>NaN</td>\n",
       "      <td>NaN</td>\n",
       "      <td>less than 100,000</td>\n",
       "      <td>NaN</td>\n",
       "      <td>NaN</td>\n",
       "      <td>...</td>\n",
       "      <td>1.0</td>\n",
       "      <td>NaN</td>\n",
       "      <td>NaN</td>\n",
       "      <td>NaN</td>\n",
       "      <td>NaN</td>\n",
       "      <td>NaN</td>\n",
       "      <td>1.0</td>\n",
       "      <td>NaN</td>\n",
       "      <td>NaN</td>\n",
       "      <td>NaN</td>\n",
       "    </tr>\n",
       "    <tr>\n",
       "      <th>11</th>\n",
       "      <td>22.0</td>\n",
       "      <td>0.0</td>\n",
       "      <td>NaN</td>\n",
       "      <td>NaN</td>\n",
       "      <td>NaN</td>\n",
       "      <td>NaN</td>\n",
       "      <td>NaN</td>\n",
       "      <td>more than 1 million</td>\n",
       "      <td>NaN</td>\n",
       "      <td>NaN</td>\n",
       "      <td>...</td>\n",
       "      <td>1.0</td>\n",
       "      <td>NaN</td>\n",
       "      <td>NaN</td>\n",
       "      <td>NaN</td>\n",
       "      <td>NaN</td>\n",
       "      <td>NaN</td>\n",
       "      <td>NaN</td>\n",
       "      <td>NaN</td>\n",
       "      <td>NaN</td>\n",
       "      <td>NaN</td>\n",
       "    </tr>\n",
       "    <tr>\n",
       "      <th>12</th>\n",
       "      <td>18.0</td>\n",
       "      <td>0.0</td>\n",
       "      <td>NaN</td>\n",
       "      <td>NaN</td>\n",
       "      <td>NaN</td>\n",
       "      <td>NaN</td>\n",
       "      <td>NaN</td>\n",
       "      <td>less than 100,000</td>\n",
       "      <td>NaN</td>\n",
       "      <td>NaN</td>\n",
       "      <td>...</td>\n",
       "      <td>1.0</td>\n",
       "      <td>NaN</td>\n",
       "      <td>NaN</td>\n",
       "      <td>NaN</td>\n",
       "      <td>NaN</td>\n",
       "      <td>NaN</td>\n",
       "      <td>NaN</td>\n",
       "      <td>NaN</td>\n",
       "      <td>NaN</td>\n",
       "      <td>NaN</td>\n",
       "    </tr>\n",
       "    <tr>\n",
       "      <th>13</th>\n",
       "      <td>44.0</td>\n",
       "      <td>0.0</td>\n",
       "      <td>NaN</td>\n",
       "      <td>NaN</td>\n",
       "      <td>NaN</td>\n",
       "      <td>NaN</td>\n",
       "      <td>NaN</td>\n",
       "      <td>between 100,000 and 1 million</td>\n",
       "      <td>NaN</td>\n",
       "      <td>NaN</td>\n",
       "      <td>...</td>\n",
       "      <td>NaN</td>\n",
       "      <td>NaN</td>\n",
       "      <td>NaN</td>\n",
       "      <td>NaN</td>\n",
       "      <td>NaN</td>\n",
       "      <td>NaN</td>\n",
       "      <td>NaN</td>\n",
       "      <td>NaN</td>\n",
       "      <td>NaN</td>\n",
       "      <td>NaN</td>\n",
       "    </tr>\n",
       "    <tr>\n",
       "      <th>14</th>\n",
       "      <td>27.0</td>\n",
       "      <td>1.0</td>\n",
       "      <td>1.0</td>\n",
       "      <td>0.0</td>\n",
       "      <td>Code Fellows</td>\n",
       "      <td>1.0</td>\n",
       "      <td>NaN</td>\n",
       "      <td>between 100,000 and 1 million</td>\n",
       "      <td>NaN</td>\n",
       "      <td>NaN</td>\n",
       "      <td>...</td>\n",
       "      <td>NaN</td>\n",
       "      <td>NaN</td>\n",
       "      <td>NaN</td>\n",
       "      <td>NaN</td>\n",
       "      <td>NaN</td>\n",
       "      <td>NaN</td>\n",
       "      <td>NaN</td>\n",
       "      <td>NaN</td>\n",
       "      <td>NaN</td>\n",
       "      <td>NaN</td>\n",
       "    </tr>\n",
       "    <tr>\n",
       "      <th>15</th>\n",
       "      <td>32.0</td>\n",
       "      <td>0.0</td>\n",
       "      <td>NaN</td>\n",
       "      <td>NaN</td>\n",
       "      <td>NaN</td>\n",
       "      <td>NaN</td>\n",
       "      <td>NaN</td>\n",
       "      <td>less than 100,000</td>\n",
       "      <td>NaN</td>\n",
       "      <td>NaN</td>\n",
       "      <td>...</td>\n",
       "      <td>NaN</td>\n",
       "      <td>NaN</td>\n",
       "      <td>NaN</td>\n",
       "      <td>NaN</td>\n",
       "      <td>NaN</td>\n",
       "      <td>NaN</td>\n",
       "      <td>NaN</td>\n",
       "      <td>NaN</td>\n",
       "      <td>NaN</td>\n",
       "      <td>NaN</td>\n",
       "    </tr>\n",
       "    <tr>\n",
       "      <th>16</th>\n",
       "      <td>29.0</td>\n",
       "      <td>0.0</td>\n",
       "      <td>NaN</td>\n",
       "      <td>NaN</td>\n",
       "      <td>NaN</td>\n",
       "      <td>NaN</td>\n",
       "      <td>NaN</td>\n",
       "      <td>between 100,000 and 1 million</td>\n",
       "      <td>NaN</td>\n",
       "      <td>NaN</td>\n",
       "      <td>...</td>\n",
       "      <td>1.0</td>\n",
       "      <td>1.0</td>\n",
       "      <td>NaN</td>\n",
       "      <td>NaN</td>\n",
       "      <td>NaN</td>\n",
       "      <td>NaN</td>\n",
       "      <td>NaN</td>\n",
       "      <td>NaN</td>\n",
       "      <td>NaN</td>\n",
       "      <td>1.0</td>\n",
       "    </tr>\n",
       "    <tr>\n",
       "      <th>17</th>\n",
       "      <td>18.0</td>\n",
       "      <td>0.0</td>\n",
       "      <td>NaN</td>\n",
       "      <td>NaN</td>\n",
       "      <td>NaN</td>\n",
       "      <td>NaN</td>\n",
       "      <td>NaN</td>\n",
       "      <td>more than 1 million</td>\n",
       "      <td>1.0</td>\n",
       "      <td>NaN</td>\n",
       "      <td>...</td>\n",
       "      <td>1.0</td>\n",
       "      <td>NaN</td>\n",
       "      <td>1.0</td>\n",
       "      <td>NaN</td>\n",
       "      <td>1.0</td>\n",
       "      <td>1.0</td>\n",
       "      <td>1.0</td>\n",
       "      <td>NaN</td>\n",
       "      <td>NaN</td>\n",
       "      <td>1.0</td>\n",
       "    </tr>\n",
       "    <tr>\n",
       "      <th>18</th>\n",
       "      <td>46.0</td>\n",
       "      <td>0.0</td>\n",
       "      <td>NaN</td>\n",
       "      <td>NaN</td>\n",
       "      <td>NaN</td>\n",
       "      <td>NaN</td>\n",
       "      <td>NaN</td>\n",
       "      <td>more than 1 million</td>\n",
       "      <td>NaN</td>\n",
       "      <td>NaN</td>\n",
       "      <td>...</td>\n",
       "      <td>NaN</td>\n",
       "      <td>NaN</td>\n",
       "      <td>NaN</td>\n",
       "      <td>NaN</td>\n",
       "      <td>NaN</td>\n",
       "      <td>NaN</td>\n",
       "      <td>NaN</td>\n",
       "      <td>NaN</td>\n",
       "      <td>NaN</td>\n",
       "      <td>NaN</td>\n",
       "    </tr>\n",
       "    <tr>\n",
       "      <th>19</th>\n",
       "      <td>31.0</td>\n",
       "      <td>0.0</td>\n",
       "      <td>NaN</td>\n",
       "      <td>NaN</td>\n",
       "      <td>NaN</td>\n",
       "      <td>NaN</td>\n",
       "      <td>NaN</td>\n",
       "      <td>less than 100,000</td>\n",
       "      <td>NaN</td>\n",
       "      <td>NaN</td>\n",
       "      <td>...</td>\n",
       "      <td>NaN</td>\n",
       "      <td>NaN</td>\n",
       "      <td>NaN</td>\n",
       "      <td>NaN</td>\n",
       "      <td>NaN</td>\n",
       "      <td>NaN</td>\n",
       "      <td>NaN</td>\n",
       "      <td>NaN</td>\n",
       "      <td>NaN</td>\n",
       "      <td>NaN</td>\n",
       "    </tr>\n",
       "  </tbody>\n",
       "</table>\n",
       "<p>20 rows × 136 columns</p>\n",
       "</div>"
      ],
      "text/plain": [
       "     Age  AttendedBootcamp  BootcampFinish  BootcampLoanYesNo  BootcampName  \\\n",
       "0   27.0               0.0             NaN                NaN           NaN   \n",
       "1   34.0               0.0             NaN                NaN           NaN   \n",
       "2   21.0               0.0             NaN                NaN           NaN   \n",
       "3   26.0               0.0             NaN                NaN           NaN   \n",
       "4   20.0               0.0             NaN                NaN           NaN   \n",
       "5   28.0               0.0             NaN                NaN           NaN   \n",
       "6   29.0               0.0             NaN                NaN           NaN   \n",
       "7   29.0               0.0             NaN                NaN           NaN   \n",
       "8   23.0               0.0             NaN                NaN           NaN   \n",
       "9   24.0               0.0             NaN                NaN           NaN   \n",
       "10  20.0               0.0             NaN                NaN           NaN   \n",
       "11  22.0               0.0             NaN                NaN           NaN   \n",
       "12  18.0               0.0             NaN                NaN           NaN   \n",
       "13  44.0               0.0             NaN                NaN           NaN   \n",
       "14  27.0               1.0             1.0                0.0  Code Fellows   \n",
       "15  32.0               0.0             NaN                NaN           NaN   \n",
       "16  29.0               0.0             NaN                NaN           NaN   \n",
       "17  18.0               0.0             NaN                NaN           NaN   \n",
       "18  46.0               0.0             NaN                NaN           NaN   \n",
       "19  31.0               0.0             NaN                NaN           NaN   \n",
       "\n",
       "    BootcampRecommend  ChildrenNumber                 CityPopulation  \\\n",
       "0                 NaN             NaN            more than 1 million   \n",
       "1                 NaN             NaN              less than 100,000   \n",
       "2                 NaN             NaN            more than 1 million   \n",
       "3                 NaN             NaN  between 100,000 and 1 million   \n",
       "4                 NaN             NaN  between 100,000 and 1 million   \n",
       "5                 NaN             NaN              less than 100,000   \n",
       "6                 NaN             NaN  between 100,000 and 1 million   \n",
       "7                 NaN             NaN  between 100,000 and 1 million   \n",
       "8                 NaN             NaN              less than 100,000   \n",
       "9                 NaN             NaN            more than 1 million   \n",
       "10                NaN             NaN              less than 100,000   \n",
       "11                NaN             NaN            more than 1 million   \n",
       "12                NaN             NaN              less than 100,000   \n",
       "13                NaN             NaN  between 100,000 and 1 million   \n",
       "14                1.0             NaN  between 100,000 and 1 million   \n",
       "15                NaN             NaN              less than 100,000   \n",
       "16                NaN             NaN  between 100,000 and 1 million   \n",
       "17                NaN             NaN            more than 1 million   \n",
       "18                NaN             NaN            more than 1 million   \n",
       "19                NaN             NaN              less than 100,000   \n",
       "\n",
       "    CodeEventConferences  CodeEventDjangoGirls         ...           \\\n",
       "0                    NaN                   NaN         ...            \n",
       "1                    NaN                   NaN         ...            \n",
       "2                    NaN                   NaN         ...            \n",
       "3                    NaN                   NaN         ...            \n",
       "4                    NaN                   NaN         ...            \n",
       "5                    NaN                   NaN         ...            \n",
       "6                    1.0                   NaN         ...            \n",
       "7                    NaN                   NaN         ...            \n",
       "8                    NaN                   NaN         ...            \n",
       "9                    1.0                   NaN         ...            \n",
       "10                   NaN                   NaN         ...            \n",
       "11                   NaN                   NaN         ...            \n",
       "12                   NaN                   NaN         ...            \n",
       "13                   NaN                   NaN         ...            \n",
       "14                   NaN                   NaN         ...            \n",
       "15                   NaN                   NaN         ...            \n",
       "16                   NaN                   NaN         ...            \n",
       "17                   1.0                   NaN         ...            \n",
       "18                   NaN                   NaN         ...            \n",
       "19                   NaN                   NaN         ...            \n",
       "\n",
       "    YouTubeFCC  YouTubeFunFunFunction  YouTubeGoogleDev  YouTubeLearnCode  \\\n",
       "0          NaN                    NaN               NaN               NaN   \n",
       "1          1.0                    NaN               NaN               NaN   \n",
       "2          NaN                    NaN               NaN               1.0   \n",
       "3          1.0                    1.0               NaN               NaN   \n",
       "4          NaN                    NaN               NaN               NaN   \n",
       "5          NaN                    NaN               NaN               NaN   \n",
       "6          NaN                    NaN               NaN               NaN   \n",
       "7          1.0                    1.0               NaN               NaN   \n",
       "8          NaN                    NaN               NaN               NaN   \n",
       "9          1.0                    1.0               NaN               1.0   \n",
       "10         1.0                    NaN               NaN               NaN   \n",
       "11         1.0                    NaN               NaN               NaN   \n",
       "12         1.0                    NaN               NaN               NaN   \n",
       "13         NaN                    NaN               NaN               NaN   \n",
       "14         NaN                    NaN               NaN               NaN   \n",
       "15         NaN                    NaN               NaN               NaN   \n",
       "16         1.0                    1.0               NaN               NaN   \n",
       "17         1.0                    NaN               1.0               NaN   \n",
       "18         NaN                    NaN               NaN               NaN   \n",
       "19         NaN                    NaN               NaN               NaN   \n",
       "\n",
       "    YouTubeLevelUpTuts  YouTubeMIT  YouTubeMozillaHacks         YouTubeOther  \\\n",
       "0                  NaN         NaN                  NaN                  NaN   \n",
       "1                  NaN         NaN                  NaN                  NaN   \n",
       "2                  1.0         NaN                  NaN                  NaN   \n",
       "3                  1.0         NaN                  NaN                  NaN   \n",
       "4                  NaN         NaN                  NaN                  NaN   \n",
       "5                  NaN         NaN                  NaN  CodingEntrepreneurs   \n",
       "6                  NaN         NaN                  NaN                  NaN   \n",
       "7                  NaN         NaN                  NaN                  NaN   \n",
       "8                  NaN         NaN                  NaN                  NaN   \n",
       "9                  1.0         1.0                  NaN                  NaN   \n",
       "10                 NaN         NaN                  1.0                  NaN   \n",
       "11                 NaN         NaN                  NaN                  NaN   \n",
       "12                 NaN         NaN                  NaN                  NaN   \n",
       "13                 NaN         NaN                  NaN                  NaN   \n",
       "14                 NaN         NaN                  NaN                  NaN   \n",
       "15                 NaN         NaN                  NaN                  NaN   \n",
       "16                 NaN         NaN                  NaN                  NaN   \n",
       "17                 1.0         1.0                  1.0                  NaN   \n",
       "18                 NaN         NaN                  NaN                  NaN   \n",
       "19                 NaN         NaN                  NaN                  NaN   \n",
       "\n",
       "    YouTubeSimplilearn  YouTubeTheNewBoston  \n",
       "0                  NaN                  NaN  \n",
       "1                  NaN                  NaN  \n",
       "2                  NaN                  NaN  \n",
       "3                  NaN                  NaN  \n",
       "4                  NaN                  NaN  \n",
       "5                  NaN                  1.0  \n",
       "6                  NaN                  NaN  \n",
       "7                  NaN                  1.0  \n",
       "8                  NaN                  NaN  \n",
       "9                  NaN                  1.0  \n",
       "10                 NaN                  NaN  \n",
       "11                 NaN                  NaN  \n",
       "12                 NaN                  NaN  \n",
       "13                 NaN                  NaN  \n",
       "14                 NaN                  NaN  \n",
       "15                 NaN                  NaN  \n",
       "16                 NaN                  1.0  \n",
       "17                 NaN                  1.0  \n",
       "18                 NaN                  NaN  \n",
       "19                 NaN                  NaN  \n",
       "\n",
       "[20 rows x 136 columns]"
      ]
     },
     "execution_count": 23,
     "metadata": {},
     "output_type": "execute_result"
    }
   ],
   "source": [
    "import pandas as pd\n",
    "import numpy as np\n",
    "import matplotlib.pyplot as plt\n",
    "%matplotlib inline\n",
    "\n",
    "data = pd.read_csv('2017-fCC-New-Coders-Survey-Data.csv')\n",
    "print(data.shape)\n",
    "data.head(20)"
   ]
  },
  {
   "cell_type": "code",
   "execution_count": 24,
   "metadata": {
    "collapsed": false
   },
   "outputs": [
    {
     "name": "stdout",
     "output_type": "stream",
     "text": [
      "['Age', 'AttendedBootcamp', 'BootcampFinish', 'BootcampLoanYesNo', 'BootcampName', 'BootcampRecommend', 'ChildrenNumber', 'CityPopulation', 'CodeEventConferences', 'CodeEventDjangoGirls', 'CodeEventFCC', 'CodeEventGameJam', 'CodeEventGirlDev', 'CodeEventHackathons', 'CodeEventMeetup', 'CodeEventNodeSchool', 'CodeEventNone', 'CodeEventOther', 'CodeEventRailsBridge', 'CodeEventRailsGirls', 'CodeEventStartUpWknd', 'CodeEventWkdBootcamps', 'CodeEventWomenCode', 'CodeEventWorkshops', 'CommuteTime', 'CountryCitizen', 'CountryLive', 'EmploymentField', 'EmploymentFieldOther', 'EmploymentStatus', 'EmploymentStatusOther', 'ExpectedEarning', 'FinanciallySupporting', 'FirstDevJob', 'Gender', 'GenderOther', 'HasChildren', 'HasDebt', 'HasFinancialDependents', 'HasHighSpdInternet', 'HasHomeMortgage', 'HasServedInMilitary', 'HasStudentDebt', 'HomeMortgageOwe', 'HoursLearning', 'ID.x', 'ID.y', 'Income', 'IsEthnicMinority', 'IsReceiveDisabilitiesBenefits', 'IsSoftwareDev', 'IsUnderEmployed', 'JobApplyWhen', 'JobInterestBackEnd', 'JobInterestDataEngr', 'JobInterestDataSci', 'JobInterestDevOps', 'JobInterestFrontEnd', 'JobInterestFullStack', 'JobInterestGameDev', 'JobInterestInfoSec', 'JobInterestMobile', 'JobInterestOther', 'JobInterestProjMngr', 'JobInterestQAEngr', 'JobInterestUX', 'JobPref', 'JobRelocateYesNo', 'JobRoleInterest', 'JobWherePref', 'LanguageAtHome', 'MaritalStatus', 'MoneyForLearning', 'MonthsProgramming', 'NetworkID', 'Part1EndTime', 'Part1StartTime', 'Part2EndTime', 'Part2StartTime', 'PodcastChangeLog', 'PodcastCodeNewbie', 'PodcastCodePen', 'PodcastDevTea', 'PodcastDotNET', 'PodcastGiantRobots', 'PodcastJSAir', 'PodcastJSJabber', 'PodcastNone', 'PodcastOther', 'PodcastProgThrowdown', 'PodcastRubyRogues', 'PodcastSEDaily', 'PodcastSERadio', 'PodcastShopTalk', 'PodcastTalkPython', 'PodcastTheWebAhead', 'ResourceCodecademy', 'ResourceCodeWars', 'ResourceCoursera', 'ResourceCSS', 'ResourceEdX', 'ResourceEgghead', 'ResourceFCC', 'ResourceHackerRank', 'ResourceKA', 'ResourceLynda', 'ResourceMDN', 'ResourceOdinProj', 'ResourceOther', 'ResourcePluralSight', 'ResourceSkillcrush', 'ResourceSO', 'ResourceTreehouse', 'ResourceUdacity', 'ResourceUdemy', 'ResourceW3S', 'SchoolDegree', 'SchoolMajor', 'StudentDebtOwe', 'YouTubeCodeCourse', 'YouTubeCodingTrain', 'YouTubeCodingTut360', 'YouTubeComputerphile', 'YouTubeDerekBanas', 'YouTubeDevTips', 'YouTubeEngineeredTruth', 'YouTubeFCC', 'YouTubeFunFunFunction', 'YouTubeGoogleDev', 'YouTubeLearnCode', 'YouTubeLevelUpTuts', 'YouTubeMIT', 'YouTubeMozillaHacks', 'YouTubeOther', 'YouTubeSimplilearn', 'YouTubeTheNewBoston']\n"
     ]
    }
   ],
   "source": [
    "print(list(data.columns))"
   ]
  },
  {
   "cell_type": "code",
   "execution_count": 25,
   "metadata": {
    "collapsed": false
   },
   "outputs": [
    {
     "data": {
      "text/plain": [
       "0       1.0\n",
       "1       1.0\n",
       "2       1.0\n",
       "3       1.0\n",
       "4       1.0\n",
       "5       1.0\n",
       "6       1.0\n",
       "7       1.0\n",
       "8       1.0\n",
       "9       1.0\n",
       "10      1.0\n",
       "11      0.0\n",
       "12      1.0\n",
       "13      1.0\n",
       "14      1.0\n",
       "15      1.0\n",
       "16      1.0\n",
       "17      1.0\n",
       "18      1.0\n",
       "19      1.0\n",
       "20      1.0\n",
       "21      1.0\n",
       "22      1.0\n",
       "23      1.0\n",
       "24      1.0\n",
       "25      1.0\n",
       "26      1.0\n",
       "27      0.0\n",
       "28      1.0\n",
       "29      1.0\n",
       "       ... \n",
       "2852    0.0\n",
       "2853    1.0\n",
       "2854    1.0\n",
       "2855    0.0\n",
       "2856    1.0\n",
       "2857    1.0\n",
       "2858    1.0\n",
       "2859    1.0\n",
       "2860    1.0\n",
       "2861    1.0\n",
       "2862    1.0\n",
       "2863    1.0\n",
       "2864    1.0\n",
       "2865    1.0\n",
       "2866    1.0\n",
       "2867    1.0\n",
       "2868    1.0\n",
       "2869    1.0\n",
       "2870    0.0\n",
       "2871    1.0\n",
       "2872    0.0\n",
       "2873    1.0\n",
       "2874    1.0\n",
       "2875    1.0\n",
       "2876    0.0\n",
       "2877    0.0\n",
       "2878    0.0\n",
       "2879    1.0\n",
       "2880    1.0\n",
       "2881    NaN\n",
       "Name: HasHighSpdInternet, Length: 2882, dtype: float64"
      ]
     },
     "execution_count": 25,
     "metadata": {},
     "output_type": "execute_result"
    }
   ],
   "source": [
    "data[\"HasHighSpdInternet\"]"
   ]
  },
  {
   "cell_type": "code",
   "execution_count": 26,
   "metadata": {
    "collapsed": false
   },
   "outputs": [
    {
     "data": {
      "text/plain": [
       "English                    1402\n",
       "Spanish                     190\n",
       "Hindi                       110\n",
       "Russian                      83\n",
       "Portuguese                   83\n",
       "French                       65\n",
       "Polish                       65\n",
       "German                       50\n",
       "Turkish                      32\n",
       "Italian                      32\n",
       "Arabic                       30\n",
       "Romanian                     29\n",
       "Chinese                      27\n",
       "Dutch                        26\n",
       "Telugu                       25\n",
       "Tamil                        24\n",
       "Marathi                      23\n",
       "Serbian                      23\n",
       "Bengali                      22\n",
       "Hungarian                    21\n",
       "Greek                        20\n",
       "Gujarati                     20\n",
       "Tagalog                      20\n",
       "Swedish                      18\n",
       "Mandarin Chinese             16\n",
       "Vietnamese                   15\n",
       "Yue (Cantonese) Chinese      14\n",
       "Korean                       13\n",
       "Urdu                         13\n",
       "Lithuanian                   13\n",
       "                           ... \n",
       "Zulu                          2\n",
       "Somali                        2\n",
       "Sesotho                       2\n",
       "Estonian                      2\n",
       "Icelandic                     2\n",
       "Cebuano                       2\n",
       "Khmer                         2\n",
       "Kikuyu                        2\n",
       "Kazakh                        2\n",
       "Egyptian Arabic               1\n",
       "Assamese                      1\n",
       "Tarantino                     1\n",
       "Maithili                      1\n",
       "Tajik                         1\n",
       "Romani                        1\n",
       "Armenian                      1\n",
       "Bhojpuri                      1\n",
       "Banjar                        1\n",
       "Wolof                         1\n",
       "Welsh                         1\n",
       "Southern Azerbaijani          1\n",
       "Neapolitan                    1\n",
       "Akan                          1\n",
       "Bavarian                      1\n",
       "Malay Bhasa Indonesia         1\n",
       "Burmese                       1\n",
       "Magahi                        1\n",
       "Luxembourgish                 1\n",
       "West Flemish                  1\n",
       "Samoan                        1\n",
       "Name: LanguageAtHome, Length: 100, dtype: int64"
      ]
     },
     "execution_count": 26,
     "metadata": {},
     "output_type": "execute_result"
    }
   ],
   "source": [
    "data[\"LanguageAtHome\"].value_counts()"
   ]
  },
  {
   "cell_type": "markdown",
   "metadata": {},
   "source": [
    "##### Using a ready-made data set: \n",
    "\n",
    "<i> Organizing and making a survey is very hard and costly. Is better to use ready-data from other sources like existing web services in similar fields to become familiar. \n",
    "</i>"
   ]
  },
  {
   "cell_type": "markdown",
   "metadata": {},
   "source": [
    "###### Describing the data-set: \n",
    "\n",
    "###### 2882 rows, 136 columns.\n",
    "\n",
    "<i> The data set is about 2882 persons who answers a several questions of different types. \n",
    "\n",
    "There are some columns with 1-0 answers wich encode a \"yes-no\" answer for example: \n",
    "- YouTube learn code?\n",
    "- High internet connection, etc. \n",
    "\n",
    "Also we have nominal values or descriptive answers from questions like:\n",
    "- Marital status? \n",
    "- School degree?\n",
    "\n",
    "Also numerical values from questions like: \n",
    "- Income?\n",
    "- Money for learning?\n",
    "- Expected earning? \n",
    "</i>"
   ]
  },
  {
   "cell_type": "code",
   "execution_count": 27,
   "metadata": {
    "collapsed": false
   },
   "outputs": [
    {
     "data": {
      "text/plain": [
       "Full-Stack Web Developer                                                                                                                                                                                                               12.015810\n",
       "  Front-End Web Developer                                                                                                                                                                                                               4.426877\n",
       "  Data Scientist                                                                                                                                                                                                                        2.371542\n",
       "  Mobile Developer                                                                                                                                                                                                                      1.660079\n",
       "Back-End Web Developer                                                                                                                                                                                                                  1.581028\n",
       "Full-Stack Web Developer,   Front-End Web Developer                                                                                                                                                                                     1.264822\n",
       "  Product Manager                                                                                                                                                                                                                       1.106719\n",
       "  Front-End Web Developer, Full-Stack Web Developer                                                                                                                                                                                     1.106719\n",
       "Data Engineer                                                                                                                                                                                                                           1.027668\n",
       "Back-End Web Developer, Full-Stack Web Developer                                                                                                                                                                                        0.948617\n",
       "  Front-End Web Developer, Back-End Web Developer, Full-Stack Web Developer                                                                                                                                                             0.948617\n",
       "Information Security                                                                                                                                                                                                                    0.948617\n",
       "  User Experience Designer,   Front-End Web Developer                                                                                                                                                                                   0.790514\n",
       "Back-End Web Developer, Full-Stack Web Developer,   Front-End Web Developer                                                                                                                                                             0.790514\n",
       "  User Experience Designer                                                                                                                                                                                                              0.790514\n",
       "Game Developer                                                                                                                                                                                                                          0.711462\n",
       "Back-End Web Developer,   Front-End Web Developer, Full-Stack Web Developer                                                                                                                                                             0.632411\n",
       "Full-Stack Web Developer, Back-End Web Developer                                                                                                                                                                                        0.632411\n",
       "  Front-End Web Developer,   User Experience Designer                                                                                                                                                                                   0.474308\n",
       "  Front-End Web Developer, Full-Stack Web Developer, Back-End Web Developer                                                                                                                                                             0.474308\n",
       "  Data Scientist, Full-Stack Web Developer                                                                                                                                                                                              0.395257\n",
       "  Front-End Web Developer, Full-Stack Web Developer,   Mobile Developer                                                                                                                                                                 0.395257\n",
       "  DevOps / SysAdmin                                                                                                                                                                                                                     0.395257\n",
       "Data Engineer,   Data Scientist                                                                                                                                                                                                         0.395257\n",
       "Back-End Web Developer,   Front-End Web Developer                                                                                                                                                                                       0.395257\n",
       "Full-Stack Web Developer,   Mobile Developer                                                                                                                                                                                            0.395257\n",
       "Full-Stack Web Developer, Information Security                                                                                                                                                                                          0.316206\n",
       "  User Experience Designer, Full-Stack Web Developer,   Front-End Web Developer                                                                                                                                                         0.316206\n",
       "Full-Stack Web Developer,   Front-End Web Developer, Back-End Web Developer                                                                                                                                                             0.316206\n",
       "Full-Stack Web Developer,   Mobile Developer,   Front-End Web Developer                                                                                                                                                                 0.316206\n",
       "                                                                                                                                                                                                                                         ...    \n",
       "Information Security, Full-Stack Web Developer,   Quality Assurance Engineer, Back-End Web Developer,   DevOps / SysAdmin                                                                                                               0.079051\n",
       "  User Experience Designer,   Front-End Web Developer, Data Engineer,   Product Manager,   DevOps / SysAdmin, Full-Stack Web Developer,   Data Scientist, Game Developer, Back-End Web Developer                                        0.079051\n",
       "Data Engineer, Back-End Web Developer, Game Developer,   User Experience Designer,   Quality Assurance Engineer, Information Security,   Mobile Developer,   Front-End Web Developer,   DevOps / SysAdmin, Full-Stack Web Developer     0.079051\n",
       "Full-Stack Web Developer,   Front-End Web Developer,   User Experience Designer,   Data Scientist                                                                                                                                       0.079051\n",
       "Full-Stack Web Developer, Information Security, Data Engineer                                                                                                                                                                           0.079051\n",
       "Data Engineer, Full-Stack Web Developer,   Data Scientist, Information Security, Back-End Web Developer                                                                                                                                 0.079051\n",
       "Game Developer, Full-Stack Web Developer,   Data Scientist,   Front-End Web Developer                                                                                                                                                   0.079051\n",
       "Full-Stack Web Developer,   Mobile Developer,   DevOps / SysAdmin, Game Developer,   Quality Assurance Engineer,   Data Scientist                                                                                                       0.079051\n",
       "Full-Stack Web Developer,   Product Manager                                                                                                                                                                                             0.079051\n",
       "Data Engineer,   Product Manager                                                                                                                                                                                                        0.079051\n",
       "Data Engineer,   Mobile Developer,   Front-End Web Developer, Back-End Web Developer, Game Developer                                                                                                                                    0.079051\n",
       "Full-Stack Web Developer, Back-End Web Developer,   Front-End Web Developer, Game Developer                                                                                                                                             0.079051\n",
       "  DevOps / SysAdmin, Game Developer, Full-Stack Web Developer                                                                                                                                                                           0.079051\n",
       "Data Engineer,   Product Manager,   Mobile Developer,   Front-End Web Developer,   User Experience Designer                                                                                                                             0.079051\n",
       "Back-End Web Developer, Full-Stack Web Developer,   Front-End Web Developer,   Mobile Developer, Information Security                                                                                                                   0.079051\n",
       "  Front-End Web Developer,   Mobile Developer,   DevOps / SysAdmin, Full-Stack Web Developer, Back-End Web Developer,   User Experience Designer                                                                                        0.079051\n",
       "  Front-End Web Developer,   User Experience Designer,   Mobile Developer, Game Developer, Information Security, Full-Stack Web Developer, Back-End Web Developer                                                                       0.079051\n",
       "  Front-End Web Developer, Back-End Web Developer,   Data Scientist,   Mobile Developer, Full-Stack Web Developer, Data Engineer,   Product Manager                                                                                     0.079051\n",
       "Back-End Web Developer, Full-Stack Web Developer, Game Developer,   Front-End Web Developer                                                                                                                                             0.079051\n",
       "  Front-End Web Developer,   Data Scientist, Full-Stack Web Developer,   Mobile Developer                                                                                                                                               0.079051\n",
       "  Quality Assurance Engineer, Information Security,   Data Scientist                                                                                                                                                                    0.079051\n",
       "  Data Scientist,   Product Manager,   Mobile Developer, Back-End Web Developer,   Front-End Web Developer, Full-Stack Web Developer, Game Developer                                                                                    0.079051\n",
       "Data Engineer, Full-Stack Web Developer,   DevOps / SysAdmin, Game Developer,   Mobile Developer, Back-End Web Developer                                                                                                                0.079051\n",
       "  Product Manager, Full-Stack Web Developer,   Front-End Web Developer                                                                                                                                                                  0.079051\n",
       "  DevOps / SysAdmin, Information Security, Back-End Web Developer,   Mobile Developer, Full-Stack Web Developer, Game Developer,   Data Scientist, Data Engineer                                                                        0.079051\n",
       "Data Engineer,   Front-End Web Developer,   Mobile Developer                                                                                                                                                                            0.079051\n",
       "Full-Stack Web Developer,   Mobile Developer,   Front-End Web Developer, Game Developer, Back-End Web Developer                                                                                                                         0.079051\n",
       "Full-Stack Web Developer, Game Developer, Data Engineer,   Data Scientist, Back-End Web Developer                                                                                                                                       0.079051\n",
       "Game Developer,   Data Scientist,   Front-End Web Developer, Full-Stack Web Developer,   Mobile Developer                                                                                                                               0.079051\n",
       "  Front-End Web Developer,   Product Manager,   Data Scientist, Game Developer,   User Experience Designer                                                                                                                              0.079051\n",
       "Name: JobRoleInterest, Length: 732, dtype: float64"
      ]
     },
     "execution_count": 27,
     "metadata": {},
     "output_type": "execute_result"
    }
   ],
   "source": [
    "data[\"JobRoleInterest\"].value_counts(normalize=True)*100"
   ]
  },
  {
   "cell_type": "code",
   "execution_count": 28,
   "metadata": {
    "collapsed": false,
    "scrolled": true
   },
   "outputs": [
    {
     "name": "stdout",
     "output_type": "stream",
     "text": [
      "(2882, 136)\n",
      "how many people is not answer this question? : 1617\n",
      "how many people answer the question? : 1265\n"
     ]
    }
   ],
   "source": [
    "print(data.shape)\n",
    "not_answer = data[\"JobRoleInterest\"].isnull().sum()\n",
    "answer = data.shape[0] - not_answer\n",
    "print(\"how many people is not answer this question? :\",not_answer) \n",
    "print(\"how many people answer the question? :\",answer)"
   ]
  },
  {
   "cell_type": "markdown",
   "metadata": {},
   "source": [
    "###### We can see that there is a lot of people that haven't answered the question. We can drop this rows and work with only the rows without null values. \n",
    "###### Also we can put all the values in a string to find out how many times there is a row with more than one subjects of interest, and how many with only one subject of interest. "
   ]
  },
  {
   "cell_type": "code",
   "execution_count": 30,
   "metadata": {
    "collapsed": false,
    "scrolled": true
   },
   "outputs": [],
   "source": [
    "string_JobRoleInterest_notNaN = data[\"JobRoleInterest\"].dropna().str.contains(\"Web|Mobile\")\n",
    "string_JobRoleInterest_notNaN.value_counts()\n",
    "string_JobRoleInterest_notNaN_string = data[\"JobRoleInterest\"].dropna().to_string()"
   ]
  },
  {
   "cell_type": "code",
   "execution_count": 31,
   "metadata": {
    "collapsed": false
   },
   "outputs": [
    {
     "name": "stdout",
     "output_type": "stream",
     "text": [
      "1265\n",
      "Amount of people with interest in web or mobile:  1023\n",
      "Amount of people with interest in more than one suject:  920\n",
      "Amount of people with only one interest:  345\n"
     ]
    }
   ],
   "source": [
    "string_splited = string_JobRoleInterest_notNaN_string.split(\"\\n\")\n",
    "cont_Web_or_mobile = 0\n",
    "cont_more_than_one = 0\n",
    "cont_only_one = 0\n",
    "cont_rows = 0\n",
    "\n",
    "print(len(string_splited))\n",
    "\n",
    "for string in string_splited:\n",
    "    if (\"Web\" in string) or (\"Mobile\" in string):\n",
    "        cont_Web_or_mobile += 1\n",
    "    if \",\" in string:\n",
    "        cont_more_than_one += 1\n",
    "    else: cont_only_one += 1    \n",
    "        \n",
    "print(\"Amount of people with interest in web or mobile: \",cont_Web_or_mobile)\n",
    "print(\"Amount of people with interest in more than one suject: \",cont_more_than_one)\n",
    "print(\"Amount of people with only one interest: \",cont_only_one)"
   ]
  },
  {
   "cell_type": "code",
   "execution_count": 32,
   "metadata": {
    "collapsed": false,
    "scrolled": true
   },
   "outputs": [
    {
     "name": "stdout",
     "output_type": "stream",
     "text": [
      "0.2727272727272727 0.724901185770751\n"
     ]
    },
    {
     "data": {
      "image/png": "[encoded data removed]",
      "text/plain": [
       "<matplotlib.figure.Figure at 0x7fda3a94eb38>"
      ]
     },
     "metadata": {},
     "output_type": "display_data"
    },
    {
     "data": {
      "image/png": "[encoded data removed]",
      "text/plain": [
       "<matplotlib.figure.Figure at 0x7fda3a597e80>"
      ]
     },
     "metadata": {},
     "output_type": "display_data"
    }
   ],
   "source": [
    "only_one_interest = 345/1265\n",
    "more_than_one_interest = 917/1265\n",
    "print(only_one_interest, more_than_one_interest)\n",
    "\n",
    "x = [1,2]\n",
    "fig, ax = plt.subplots()\n",
    "plt.bar(x,[345,917],align=\"center\",width=0.5,color=[\"g\",\"b\"])\n",
    "plt.xticks(x,(\"only_one_interest\",\"more_than_one_interest\"))\n",
    "plt.title(\"One Interest vs. More than one interest\")\n",
    "plt.text(0.9,200,\"27%\",size=20,color=\"orange\")\n",
    "plt.text(1.9,750,\"73%\",size=20,color=\"orange\")\n",
    "plt.show()\n",
    "plt.bar(x,[1023,242],align=\"center\",width=0.5,color=[\"orange\",\"black\"])\n",
    "plt.xticks(x,(\"Mobile or Web interest\",\"Rest\"))\n",
    "plt.title(\"Proportion of people with Web or Mobile interest\")\n",
    "plt.text(0.9,850,\"81%\",size=20,color=\"white\")\n",
    "plt.text(1.9,100,\"19%\",size=20,color=\"white\")\n",
    "plt.show()\n",
    "\n"
   ]
  },
  {
   "cell_type": "markdown",
   "metadata": {},
   "source": [
    "##### Initial exploration..\n",
    "\n",
    "<i> The people who are interest in only one subject summarize the aproximately 27%, the rest have interest in mare than one field. \n",
    "\n",
    "The aproximately 72% of the people who answer the question are insterested in more than one field, but this 72% represents 911 people of the entire list (only 1265 people answer the question). The amount of people in relative with the entire list is only the 31,6%. Seems that is no representative of the population. \n",
    "\n",
    "facts: Most people are interested in more than one subject. \n",
    "There is in the population 1023 persons that have interest in Web or Mobile. \n",
    "</i>\n"
   ]
  },
  {
   "cell_type": "code",
   "execution_count": 33,
   "metadata": {
    "collapsed": false
   },
   "outputs": [],
   "source": [
    "# Search where the future coders are living in, column: CountryLive  \n",
    "# For the purpose we 'll drop all rows where NaN values are in the JobRoleInterest column\n",
    "data_for_work = data[data[\"JobRoleInterest\"].notnull()]"
   ]
  },
  {
   "cell_type": "code",
   "execution_count": 34,
   "metadata": {
    "collapsed": false
   },
   "outputs": [
    {
     "data": {
      "text/plain": [
       "United States of America         50.000000\n",
       "India                             8.467742\n",
       "United Kingdom                    5.161290\n",
       "Canada                            3.951613\n",
       "Germany                           2.096774\n",
       "Poland                            1.935484\n",
       "Brazil                            1.854839\n",
       "Australia                         1.532258\n",
       "Romania                           1.129032\n",
       "Russia                            1.048387\n",
       "Italy                             0.967742\n",
       "France                            0.887097\n",
       "Spain                             0.887097\n",
       "Netherlands (Holland, Europe)     0.806452\n",
       "Mexico                            0.725806\n",
       "Serbia                            0.725806\n",
       "Belgium                           0.725806\n",
       "New Zealand                       0.645161\n",
       "Sweden                            0.645161\n",
       "Turkey                            0.645161\n",
       "Bosnia & Herzegovina              0.564516\n",
       "Philippines                       0.564516\n",
       "Singapore                         0.564516\n",
       "Argentina                         0.564516\n",
       "Portugal                          0.483871\n",
       "Greece                            0.483871\n",
       "Nigeria                           0.483871\n",
       "Ireland                           0.483871\n",
       "Ukraine                           0.483871\n",
       "Norway                            0.403226\n",
       "                                   ...    \n",
       "Puerto Rico                       0.161290\n",
       "Ghana                             0.161290\n",
       "Georgia                           0.161290\n",
       "Belarus                           0.161290\n",
       "Iran                              0.161290\n",
       "Peru                              0.161290\n",
       "Hong Kong                         0.161290\n",
       "Iraq                              0.080645\n",
       "Panama                            0.080645\n",
       "Jamaica                           0.080645\n",
       "Virgin Islands (USA)              0.080645\n",
       "Tunisia                           0.080645\n",
       "Senegal                           0.080645\n",
       "Slovenia                          0.080645\n",
       "Albania                           0.080645\n",
       "Slovakia                          0.080645\n",
       "Morocco                           0.080645\n",
       "Kyrgyzstan                        0.080645\n",
       "Guam                              0.080645\n",
       "Chile                             0.080645\n",
       "Botswana                          0.080645\n",
       "Ecuador                           0.080645\n",
       "Czech Republic                    0.080645\n",
       "Haiti                             0.080645\n",
       "Algeria                           0.080645\n",
       "Honduras                          0.080645\n",
       "Turkmenistan                      0.080645\n",
       "Cyprus                            0.080645\n",
       "Bahrain                           0.080645\n",
       "Iceland                           0.080645\n",
       "Name: CountryLive, Length: 89, dtype: float64"
      ]
     },
     "execution_count": 34,
     "metadata": {},
     "output_type": "execute_result"
    }
   ],
   "source": [
    "data_for_work[\"CountryLive\"].value_counts(normalize=True)*100"
   ]
  },
  {
   "cell_type": "markdown",
   "metadata": {},
   "source": [
    "##### Clearly USA y India are the two markets to choose for advertisement\n",
    "\n",
    "But we can't stop here, we need to go further.\n",
    "\n",
    "It seems like a good idea to narrow down our analysis to only four countries: the US, India, the United Kingdom, and Canada. Two reasons for this decision are:\n",
    "\n",
    "These are the countries having the highest absolute frequencies in our sample, which means we have a decent amount of data for each.\n",
    "Our courses are written in English, and English is an official language in all these four countries. The more people that know English, the better our chances to target the right people with our ads.\n",
    "42 ceros, 231 unos. "
   ]
  },
  {
   "cell_type": "code",
   "execution_count": 35,
   "metadata": {
    "collapsed": false
   },
   "outputs": [
    {
     "name": "stderr",
     "output_type": "stream",
     "text": [
      "/dataquest/system/env/python3/lib/python3.4/site-packages/pandas/core/generic.py:4619: SettingWithCopyWarning: \n",
      "A value is trying to be set on a copy of a slice from a DataFrame\n",
      "\n",
      "See the caveats in the documentation: http://pandas.pydata.org/pandas-docs/stable/indexing.html#indexing-view-versus-copy\n",
      "  self._update_inplace(new_data)\n"
     ]
    }
   ],
   "source": [
    "data_for_work[\"MonthsProgramming\"].replace(0,1,inplace=True)"
   ]
  },
  {
   "cell_type": "code",
   "execution_count": 36,
   "metadata": {
    "collapsed": false
   },
   "outputs": [
    {
     "name": "stderr",
     "output_type": "stream",
     "text": [
      "/dataquest/system/env/python3/lib/python3.4/site-packages/ipykernel/__main__.py:1: SettingWithCopyWarning: \n",
      "A value is trying to be set on a copy of a slice from a DataFrame.\n",
      "Try using .loc[row_indexer,col_indexer] = value instead\n",
      "\n",
      "See the caveats in the documentation: http://pandas.pydata.org/pandas-docs/stable/indexing.html#indexing-view-versus-copy\n",
      "  if __name__ == '__main__':\n"
     ]
    }
   ],
   "source": [
    "data_for_work[\"MoneyForLearningMonthly\"] = data_for_work[\"MoneyForLearning\"]/data_for_work[\"MonthsProgramming\"]"
   ]
  },
  {
   "cell_type": "code",
   "execution_count": 37,
   "metadata": {
    "collapsed": false
   },
   "outputs": [
    {
     "name": "stdout",
     "output_type": "stream",
     "text": [
      "There are  122  people that has no answer the question\n"
     ]
    }
   ],
   "source": [
    "null_values_Money_for_learning = data_for_work[\"MoneyForLearningMonthly\"].isnull().sum()\n",
    "print(\"There are \",null_values_Money_for_learning,\" people that has no answer the question\")\n"
   ]
  },
  {
   "cell_type": "code",
   "execution_count": 38,
   "metadata": {
    "collapsed": false,
    "scrolled": true
   },
   "outputs": [],
   "source": [
    "data_for_work = data_for_work[data_for_work[\"MoneyForLearningMonthly\"].notnull()]"
   ]
  },
  {
   "cell_type": "code",
   "execution_count": 39,
   "metadata": {
    "collapsed": false
   },
   "outputs": [
    {
     "data": {
      "text/plain": [
       "United States of America    582\n",
       "India                        92\n",
       "United Kingdom               58\n",
       "Canada                       45\n",
       "Germany                      23\n",
       "Name: CountryLive, dtype: int64"
      ]
     },
     "execution_count": 39,
     "metadata": {},
     "output_type": "execute_result"
    }
   ],
   "source": [
    "data_for_work = data_for_work[data_for_work[\"CountryLive\"].notnull()]\n",
    "data_for_work['CountryLive'].value_counts().head()"
   ]
  },
  {
   "cell_type": "code",
   "execution_count": 42,
   "metadata": {
    "collapsed": false,
    "scrolled": true
   },
   "outputs": [],
   "source": [
    "grouped_median = data_for_work.groupby(\"CountryLive\").median()\n",
    "\n",
    "grouped_mean = data_for_work.groupby(\"CountryLive\").mean()"
   ]
  },
  {
   "cell_type": "code",
   "execution_count": 43,
   "metadata": {
    "collapsed": false
   },
   "outputs": [
    {
     "data": {
      "text/plain": [
       "CountryLive\n",
       "United States of America    262.466988\n",
       "India                       119.467205\n",
       "United Kingdom               18.921319\n",
       "Canada                       35.808258\n",
       "Name: MoneyForLearningMonthly, dtype: float64"
      ]
     },
     "execution_count": 43,
     "metadata": {},
     "output_type": "execute_result"
    }
   ],
   "source": [
    "grouped_mean[\"MoneyForLearningMonthly\"][[\"United States of America\",\"India\",\"United Kingdom\",\"Canada\"]]"
   ]
  },
  {
   "cell_type": "code",
   "execution_count": 45,
   "metadata": {
    "collapsed": false
   },
   "outputs": [
    {
     "data": {
      "text/plain": [
       "CountryLive\n",
       "United States of America    6.666667\n",
       "India                       0.000000\n",
       "United Kingdom              0.000000\n",
       "Canada                      0.000000\n",
       "Name: MoneyForLearningMonthly, dtype: float64"
      ]
     },
     "execution_count": 45,
     "metadata": {},
     "output_type": "execute_result"
    }
   ],
   "source": [
    "grouped_median[\"MoneyForLearningMonthly\"][[\"United States of America\",\"India\",\"United Kingdom\",\"Canada\"]]"
   ]
  },
  {
   "cell_type": "code",
   "execution_count": 46,
   "metadata": {
    "collapsed": false
   },
   "outputs": [],
   "source": [
    "usa_money_monthly = data_for_work[data_for_work[\"CountryLive\"]==\"United States of America\"][\"MoneyForLearningMonthly\"]\n",
    "india_money_monthly = data_for_work[data_for_work[\"CountryLive\"]==\"India\"][\"MoneyForLearningMonthly\"]\n",
    "uk_money_monthly = data_for_work[data_for_work[\"CountryLive\"]==\"United Kingdom\"][\"MoneyForLearningMonthly\"]\n",
    "canada_money_monthly = data_for_work[data_for_work[\"CountryLive\"]==\"Canada\"][\"MoneyForLearningMonthly\"]\n"
   ]
  },
  {
   "cell_type": "code",
   "execution_count": 47,
   "metadata": {
    "collapsed": false
   },
   "outputs": [
    {
     "data": {
      "text/plain": [
       "<matplotlib.text.Text at 0x7fda3a7f42b0>"
      ]
     },
     "execution_count": 47,
     "metadata": {},
     "output_type": "execute_result"
    },
    {
     "data": {
      "image/png": "[encoded data removed]",
      "text/plain": [
       "<matplotlib.figure.Figure at 0x7fda3a4fbe48>"
      ]
     },
     "metadata": {},
     "output_type": "display_data"
    }
   ],
   "source": [
    "usa_money_monthly.plot.kde()\n",
    "plt.title(\"Money spent for e-learning in the USA\")"
   ]
  },
  {
   "cell_type": "code",
   "execution_count": 48,
   "metadata": {
    "collapsed": false
   },
   "outputs": [
    {
     "data": {
      "text/plain": [
       "<matplotlib.text.Text at 0x7fda3a425978>"
      ]
     },
     "execution_count": 48,
     "metadata": {},
     "output_type": "execute_result"
    },
    {
     "data": {
      "image/png": "[encoded data removed]",
      "text/plain": [
       "<matplotlib.figure.Figure at 0x7fda3a7d7fd0>"
      ]
     },
     "metadata": {},
     "output_type": "display_data"
    }
   ],
   "source": [
    "india_money_monthly.plot.kde()\n",
    "plt.title(\"Money spent for e-learning in India\")"
   ]
  },
  {
   "cell_type": "code",
   "execution_count": 49,
   "metadata": {
    "collapsed": false
   },
   "outputs": [
    {
     "data": {
      "text/plain": [
       "<matplotlib.text.Text at 0x7fda3a414ba8>"
      ]
     },
     "execution_count": 49,
     "metadata": {},
     "output_type": "execute_result"
    },
    {
     "data": {
      "image/png": "[encoded data removed]",
      "text/plain": [
       "<matplotlib.figure.Figure at 0x7fda3a44f278>"
      ]
     },
     "metadata": {},
     "output_type": "display_data"
    }
   ],
   "source": [
    "uk_money_monthly.plot.kde()\n",
    "plt.title(\"Money spent for e-learning in the UK\")"
   ]
  },
  {
   "cell_type": "code",
   "execution_count": 50,
   "metadata": {
    "collapsed": false
   },
   "outputs": [
    {
     "data": {
      "text/plain": [
       "<matplotlib.text.Text at 0x7fda3a380c50>"
      ]
     },
     "execution_count": 50,
     "metadata": {},
     "output_type": "execute_result"
    },
    {
     "data": {
      "image/png": "[encoded data removed]",
      "text/plain": [
       "<matplotlib.figure.Figure at 0x7fda3a3bda58>"
      ]
     },
     "metadata": {},
     "output_type": "display_data"
    }
   ],
   "source": [
    "canada_money_monthly.plot.kde()\n",
    "plt.title(\"Money spent for e-learning in CANADA\")"
   ]
  },
  {
   "cell_type": "code",
   "execution_count": 51,
   "metadata": {
    "collapsed": false,
    "scrolled": false
   },
   "outputs": [
    {
     "name": "stderr",
     "output_type": "stream",
     "text": [
      "/dataquest/system/env/python3/lib/python3.4/site-packages/seaborn/categorical.py:454: FutureWarning: remove_na is deprecated and is a private function. Do not use.\n",
      "  box_data = remove_na(group_data)\n"
     ]
    },
    {
     "data": {
      "image/png": "[encoded data removed]",
      "text/plain": [
       "<matplotlib.figure.Figure at 0x7fda3a3895c0>"
      ]
     },
     "metadata": {},
     "output_type": "display_data"
    }
   ],
   "source": [
    "fig = plt.figure(figsize=(12,12))\n",
    "ax1 = fig.add_subplot(4,1,1)\n",
    "ax2 = fig.add_subplot(4,1,2)\n",
    "ax3 = fig.add_subplot(4,1,3)\n",
    "ax4 = fig.add_subplot(4,1,4)\n",
    "plt.subplots_adjust(hspace=0.5)\n",
    "axes= [ax1,ax2,ax3,ax4]\n",
    "series = [usa_money_monthly,india_money_monthly,uk_money_monthly,canada_money_monthly]\n",
    "titles = [\"USA\",\"INDIA\",\"UK\",\"CANADA\"]\n",
    "for i in range(4):\n",
    "    sns.boxplot(series[i],whis=4,orient = \"horizontal\",width=.15,ax=axes[i])\n",
    "    axes[i].set_title(titles[i],loc=\"left\")   \n",
    "    \n"
   ]
  },
  {
   "cell_type": "markdown",
   "metadata": {
    "collapsed": true
   },
   "source": [
    "##### Seems that there is some outliers here. We can delimit values under: \n",
    "\n",
    "<i> \n",
    " - USA: under 10.000\n",
    " - India: under 1.000\n",
    " - UK: under 200\n",
    " - Canada: under 400\n",
    "</i>\n",
    "\n",
    "<i> For uniformity reasons we are going to take the values under 200 for all four countries. \n",
    "<i/>\n",
    "\n",
    "<b> FIRST TRY TO UNDERSTAND THE DATA:"
   ]
  },
  {
   "cell_type": "code",
   "execution_count": 54,
   "metadata": {
    "collapsed": false
   },
   "outputs": [
    {
     "name": "stderr",
     "output_type": "stream",
     "text": [
      "/dataquest/system/env/python3/lib/python3.4/site-packages/seaborn/categorical.py:454: FutureWarning: remove_na is deprecated and is a private function. Do not use.\n",
      "  box_data = remove_na(group_data)\n"
     ]
    },
    {
     "data": {
      "image/png": "[encoded data removed]",
      "text/plain": [
       "<matplotlib.figure.Figure at 0x7fda39fb9ac8>"
      ]
     },
     "metadata": {},
     "output_type": "display_data"
    }
   ],
   "source": [
    "fig = plt.figure(figsize=(12,12))\n",
    "ax1 = fig.add_subplot(4,1,1)\n",
    "ax2 = fig.add_subplot(4,1,2)\n",
    "ax3 = fig.add_subplot(4,1,3)\n",
    "ax4 = fig.add_subplot(4,1,4)\n",
    "plt.subplots_adjust(hspace=0.5)\n",
    "axes= [ax1,ax2,ax3,ax4]\n",
    "series = [usa_money_monthly[usa_money_monthly<200],\\\n",
    "          india_money_monthly[india_money_monthly<200],\\\n",
    "          uk_money_monthly[uk_money_monthly<200],\\\n",
    "          canada_money_monthly[canada_money_monthly<200]]\n",
    "titles = [\"USA\",\"INDIA\",\"UK\",\"CANADA\"]\n",
    "for i in range(4):\n",
    "    sns.boxplot(series[i],whis=4,orient = \"horizontal\",width=.15,ax=axes[i])\n",
    "    axes[i].set_title(titles[i],loc=\"left\")   "
   ]
  },
  {
   "cell_type": "markdown",
   "metadata": {},
   "source": [
    "#### Análysis of the plots above:\n",
    "\n",
    "- There are still atypical values that introduce confusion.\n",
    "\n",
    "###### Lets go to calculate the mean of the four countries with the cut value of 200 USD:"
   ]
  },
  {
   "cell_type": "code",
   "execution_count": 55,
   "metadata": {
    "collapsed": false
   },
   "outputs": [
    {
     "name": "stdout",
     "output_type": "stream",
     "text": [
      "USA - under 200 u$s  : 20.908401665391732\n",
      "INDIA - under 200 u$s  : 8.995971730091512\n",
      "UK - under 200 u$s  : 14.24074074074074\n",
      "CANADA - under 200 u$s  : 10.1252501675434\n"
     ]
    }
   ],
   "source": [
    "series = [usa_money_monthly[usa_money_monthly<200],\\\n",
    "          india_money_monthly[india_money_monthly<200],\\\n",
    "          uk_money_monthly[uk_money_monthly<200],\\\n",
    "          canada_money_monthly[canada_money_monthly<200]]\n",
    "\n",
    "countries = [\"USA - under 200 u$s\",\"INDIA - under 200 u$s\",\"UK - under 200 u$s\",\"CANADA - under 200 u$s\"]\n",
    "\n",
    "for i in range(4):\n",
    "    print(countries[i],\" :\",series[i].mean())"
   ]
  },
  {
   "cell_type": "markdown",
   "metadata": {},
   "source": [
    "#### The first place is mainteined by USA, but the others three still generate confuse conclusions, lets try tu use the describe() method from pandas library to see what happens with the mean, std, min, max 50th percentile and 95th percentil:"
   ]
  },
  {
   "cell_type": "code",
   "execution_count": 56,
   "metadata": {
    "collapsed": false
   },
   "outputs": [
    {
     "data": {
      "text/plain": [
       "count      582.000000\n",
       "mean       262.466988\n",
       "std       2154.400613\n",
       "min          0.000000\n",
       "50%          6.666667\n",
       "95%       1000.000000\n",
       "max      50000.000000\n",
       "Name: MoneyForLearningMonthly, dtype: float64"
      ]
     },
     "execution_count": 56,
     "metadata": {},
     "output_type": "execute_result"
    }
   ],
   "source": [
    "usa_money_monthly.describe(percentiles=[.95])"
   ]
  },
  {
   "cell_type": "code",
   "execution_count": 57,
   "metadata": {
    "collapsed": false
   },
   "outputs": [
    {
     "data": {
      "text/plain": [
       "count      92.000000\n",
       "mean      119.467205\n",
       "std       631.897753\n",
       "min         0.000000\n",
       "50%         0.000000\n",
       "95%       219.750000\n",
       "max      5000.000000\n",
       "Name: MoneyForLearningMonthly, dtype: float64"
      ]
     },
     "execution_count": 57,
     "metadata": {},
     "output_type": "execute_result"
    }
   ],
   "source": [
    "india_money_monthly.sort_values(ascending=False).describe(percentiles=[.95])"
   ]
  },
  {
   "cell_type": "code",
   "execution_count": 58,
   "metadata": {
    "collapsed": false
   },
   "outputs": [
    {
     "data": {
      "text/plain": [
       "count     58.000000\n",
       "mean      18.921319\n",
       "std       44.694192\n",
       "min        0.000000\n",
       "50%        0.000000\n",
       "95%       85.833333\n",
       "max      285.714286\n",
       "Name: MoneyForLearningMonthly, dtype: float64"
      ]
     },
     "execution_count": 58,
     "metadata": {},
     "output_type": "execute_result"
    }
   ],
   "source": [
    "uk_money_monthly.sort_values(ascending=False).describe(percentiles=[.95])"
   ]
  },
  {
   "cell_type": "code",
   "execution_count": 59,
   "metadata": {
    "collapsed": false
   },
   "outputs": [
    {
     "data": {
      "text/plain": [
       "count     45.000000\n",
       "mean      35.808258\n",
       "std      105.853697\n",
       "min        0.000000\n",
       "50%        0.000000\n",
       "95%      248.888889\n",
       "max      583.333333\n",
       "Name: MoneyForLearningMonthly, dtype: float64"
      ]
     },
     "execution_count": 59,
     "metadata": {},
     "output_type": "execute_result"
    }
   ],
   "source": [
    "canada_money_monthly.sort_values(ascending=False).describe(percentiles=[.95])"
   ]
  },
  {
   "cell_type": "markdown",
   "metadata": {},
   "source": [
    "##### we already know the means from the four countries, lets take a look of the 95th percentile: For USA 1000 USD, India 219 USD, UK 85 USD and Canada 248 USD.\n",
    "\n",
    "- Before (sorted by the means) we have the following ranking: USA, India, Canada, UK\n",
    "\n",
    "- Now (sorted by the 95th percentile) we have the following ranking: USA, Canada, India, UK. \n",
    "\n",
    "<b> Lets try to do some histograms to see what happens with data:"
   ]
  },
  {
   "cell_type": "code",
   "execution_count": 60,
   "metadata": {
    "collapsed": false,
    "scrolled": true
   },
   "outputs": [
    {
     "data": {
      "image/png": "[encoded data removed]",
      "text/plain": [
       "<matplotlib.figure.Figure at 0x7fda39f6b0f0>"
      ]
     },
     "metadata": {},
     "output_type": "display_data"
    },
    {
     "data": {
      "image/png": "[encoded data removed]",
      "text/plain": [
       "<matplotlib.figure.Figure at 0x7fda3a2e1320>"
      ]
     },
     "metadata": {},
     "output_type": "display_data"
    },
    {
     "data": {
      "image/png": "[encoded data removed]",
      "text/plain": [
       "<matplotlib.figure.Figure at 0x7fda39c3a6d8>"
      ]
     },
     "metadata": {},
     "output_type": "display_data"
    },
    {
     "data": {
      "image/png": "[encoded data removed]",
      "text/plain": [
       "<matplotlib.figure.Figure at 0x7fda39c0ff98>"
      ]
     },
     "metadata": {},
     "output_type": "display_data"
    }
   ],
   "source": [
    "series1 = [usa_money_monthly,\\\n",
    "          india_money_monthly,\\\n",
    "          uk_money_monthly,\\\n",
    "          canada_money_monthly]\n",
    "titles = [\"USA\",\"INDIA\",\"UK\",\"CANADA\"]\n",
    "colors=[\"g\",\"b\",\"y\",\"r\"]\n",
    "\n",
    "for i in range(4):\n",
    "    series1[i].plot.hist(color=colors[i],bins=100)\n",
    "    plt.title(titles[i],loc=\"left\")\n",
    "    plt.show()"
   ]
  },
  {
   "cell_type": "markdown",
   "metadata": {},
   "source": [
    "#### Summing up the management of atypical values:\n",
    "- It is very confusing to restrict the values ​​of each distribution when the four have a different range of outliers\n",
    "- It is clear that the USA has the first place in monthly spending for online learning, it is confusing for the other 3 countries.\n",
    "\n",
    "<b> Let's try the classification with a list of restriction values ​​for the four countries. A possible decision could come from the following reasoning: the two countries that are most of the time in the first two positions, will be the target of publicity."
   ]
  },
  {
   "cell_type": "code",
   "execution_count": 82,
   "metadata": {
    "collapsed": false,
    "scrolled": false
   },
   "outputs": [
    {
     "name": "stdout",
     "output_type": "stream",
     "text": [
      "  Countries   Means  Medians\n",
      "0       USA  176.86     6.67\n",
      "1     INDIA  119.47     0.00\n",
      "3    CANADA   35.81     0.00\n",
      "2        UK   18.92     0.00\n",
      "  Countries  Means  Medians\n",
      "0       USA  66.70      5.0\n",
      "3    CANADA  23.36      0.0\n",
      "2        UK  18.92      0.0\n",
      "1     INDIA  11.73      0.0\n",
      "  Countries  Means  Medians\n",
      "0       USA  66.70      5.0\n",
      "3    CANADA  35.81      0.0\n",
      "2        UK  18.92      0.0\n",
      "1     INDIA  11.73      0.0\n",
      "  Countries  Means  Medians\n",
      "0       USA  38.13     3.54\n",
      "2        UK  14.24     0.00\n",
      "3    CANADA  10.13     0.00\n",
      "1     INDIA   9.00     0.00\n",
      "  Countries  Means  Medians\n",
      "0       USA  20.91     2.08\n",
      "2        UK  14.24     0.00\n",
      "3    CANADA  10.13     0.00\n",
      "1     INDIA   9.00     0.00\n"
     ]
    }
   ],
   "source": [
    "series = [usa_money_monthly[usa_money_monthly<200],\\\n",
    "          india_money_monthly[india_money_monthly<200],\\\n",
    "          uk_money_monthly[uk_money_monthly<200],\\\n",
    "          canada_money_monthly[canada_money_monthly<200]]\n",
    "\n",
    "list_of_values = [[10000,10000,10000,10000],[1000,500,500,500],[1000,500,400,600],[500,200,200,200],[200,200,200,200]]\n",
    "\n",
    "countries = [\"USA\",\"INDIA\",\"UK\",\"CANADA\"]    \n",
    "\n",
    "\n",
    "for value in list_of_values:\n",
    "    series = [usa_money_monthly[usa_money_monthly<value[0]],\\\n",
    "          india_money_monthly[india_money_monthly<value[1]],\\\n",
    "          uk_money_monthly[uk_money_monthly<value[2]],\\\n",
    "          canada_money_monthly[canada_money_monthly<value[3]]]\n",
    "    ranking_mean = []\n",
    "    ranking_median = []\n",
    "    #ranking = pd.DataFrame([[countries[0],round(series[0].mean(),2),round(series[0].median(),2)]],columns=[\"Countries\",\"Means\",\"Medians\"])\n",
    "    frames = [] \n",
    "    for i in range(4):\n",
    "        \n",
    "        #ranking_mean.append(round(series[i].mean(),2))\n",
    "        #ranking_median.append(round(series[i].median(),2))\n",
    "        df_i = pd.DataFrame([[countries[i],round(series[i].mean(),2),round(series[i].median(),2)]],columns=[\"Countries\",\"Means\",\"Medians\"])\n",
    "        frames.append(df_i)\n",
    "    ranking = pd.concat(frames,ignore_index=True)\n",
    "    print(ranking.sort_values(by=\"Means\", ascending=False))\n",
    "    \n",
    "    "
   ]
  },
  {
   "cell_type": "markdown",
   "metadata": {},
   "source": [
    "###### Little or weak conclusion, USA is the best market to advertise, the second best market is Canada since this country is best ranked after the US.\n",
    "\n",
    "##### Finally, we are going to test some analyzes with the values ​​of z-cores. Remember that the z-core (a normalization spice) calculates the number of standard deviations from the mean to a particular value. In this case, the value is the target price that the platform has established for a monthly subscription: USD 59 / month. So, let's calculate the z-score for 59 in each country:"
   ]
  },
  {
   "cell_type": "code",
   "execution_count": 87,
   "metadata": {
    "collapsed": false
   },
   "outputs": [
    {
     "name": "stdout",
     "output_type": "stream",
     "text": [
      "The z-score for a value of 59 USD in the UK is:  0.8967313005116765\n",
      "The z-score for a value of 59 USD in Canada is:  0.21909241155098425\n",
      "The z-score for a value of 59 USD in India is:  -0.09569143875104227\n",
      "The z-score for a value of 59 USD in the USA is:  -0.09444250381948971\n"
     ]
    }
   ],
   "source": [
    "def z_score(value,array):\n",
    "    return (value - array.mean()) / np.std(array,ddof=1)\n",
    "\n",
    "z_score_uk = z_score(59,uk_money_monthly)\n",
    "print(\"The z-score for a value of 59 USD in the UK is: \",z_score_uk)\n",
    "\n",
    "z_score_canada = z_score(59,canada_money_monthly)\n",
    "print(\"The z-score for a value of 59 USD in Canada is: \",z_score_canada)\n",
    "\n",
    "z_score_india = z_score(59,india_money_monthly)\n",
    "print(\"The z-score for a value of 59 USD in India is: \",z_score_india)\n",
    "\n",
    "z_score_usa = z_score(59,usa_money_monthly)\n",
    "print(\"The z-score for a value of 59 USD in the USA is: \",z_score_usa)"
   ]
  },
  {
   "cell_type": "markdown",
   "metadata": {},
   "source": [
    "###### New conclusions: after EE. UU., India has the best z score (the closest average to the value of 59 USD).\n",
    "\n",
    "- We have previously concluded that Canada is the second best market to advertise (after the US). Conclusion based on the analysis of atypical series of cutoff values.\n",
    "- We have now come to the conclusion that India is the second best market to advertise (after the US). Conclusion based on the z-score analysis.\n",
    "\n",
    "So Canada and India, two countries to choose. The decision is not clear, we can send all the information in a good and an easy-to-understand format to the marketing team and let them use their domain kn"
   ]
  },
  {
   "cell_type": "code",
   "execution_count": null,
   "metadata": {
    "collapsed": true
   },
   "outputs": [],
   "source": []
  }
 ],
 "metadata": {
  "kernelspec": {
   "display_name": "Python 3",
   "language": "python",
   "name": "python3"
  },
  "language_info": {
   "codemirror_mode": {
    "name": "ipython",
    "version": 3
   },
   "file_extension": ".py",
   "mimetype": "text/x-python",
   "name": "python",
   "nbconvert_exporter": "python",
   "pygments_lexer": "ipython3",
   "version": "3.4.3"
  }
 },
 "nbformat": 4,
 "nbformat_minor": 2
}
